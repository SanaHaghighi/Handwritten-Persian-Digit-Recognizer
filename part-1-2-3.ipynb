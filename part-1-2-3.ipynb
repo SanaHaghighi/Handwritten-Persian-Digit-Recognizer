{
 "cells": [
  {
   "cell_type": "markdown",
   "metadata": {},
   "source": [
    "### Import library"
   ]
  },
  {
   "cell_type": "code",
   "execution_count": 10,
   "metadata": {},
   "outputs": [],
   "source": [
    "import tensorflow as tf"
   ]
  },
  {
   "cell_type": "markdown",
   "metadata": {},
   "source": [
    "### Loading the dataset and apply Preprocessing"
   ]
  },
  {
   "cell_type": "code",
   "execution_count": 11,
   "metadata": {},
   "outputs": [
    {
     "name": "stdout",
     "output_type": "stream",
     "text": [
      "Found 350 files belonging to 10 classes.\n",
      "Using 280 files for training.\n"
     ]
    },
    {
     "name": "stdout",
     "output_type": "stream",
     "text": [
      "Found 350 files belonging to 10 classes.\n",
      "Using 70 files for validation.\n"
     ]
    }
   ],
   "source": [
    "img_height = 28 # mnist default size 28*28\n",
    "img_width = 28 \n",
    "batch_size = 32\n",
    "\n",
    "# Loading the dataset\n",
    "train_ds = tf.keras.preprocessing.image_dataset_from_directory(\n",
    "    \"./mnist_dataset/\",\n",
    "    labels=\"inferred\",\n",
    "    label_mode=\"int\",\n",
    "    color_mode=\"grayscale\",\n",
    "    batch_size=batch_size,\n",
    "    image_size=(img_height, img_width),\n",
    "    shuffle=True,\n",
    "    seed=123,\n",
    "    validation_split=0.2,\n",
    "    subset=\"training\"\n",
    ")\n",
    "\n",
    "test_ds = tf.keras.preprocessing.image_dataset_from_directory(\n",
    "    \"./mnist_dataset/\",\n",
    "    labels=\"inferred\",\n",
    "    label_mode=\"int\",\n",
    "    color_mode=\"grayscale\",\n",
    "    batch_size=batch_size,\n",
    "    image_size=(img_height, img_width),\n",
    "    shuffle=True,\n",
    "    seed=123,\n",
    "    validation_split=0.2,\n",
    "    subset=\"validation\"\n",
    ")\n",
    "\n",
    "# Apply image normalization\n",
    "normalization_layer = tf.keras.layers.experimental.preprocessing.Rescaling(1./255)\n",
    "\n",
    "train_ds = train_ds.map(lambda x, y: (normalization_layer(x), y))\n",
    "test_ds = test_ds.map(lambda x, y: (normalization_layer(x), y))"
   ]
  },
  {
   "cell_type": "markdown",
   "metadata": {},
   "source": [
    "### Build ANN Model"
   ]
  },
  {
   "cell_type": "code",
   "execution_count": 12,
   "metadata": {},
   "outputs": [
    {
     "name": "stdout",
     "output_type": "stream",
     "text": [
      "Epoch 1/10\n",
      "9/9 [==============================] - 1s 22ms/step - loss: 2.7937 - accuracy: 0.0786 - val_loss: 2.5612 - val_accuracy: 0.1143\n",
      "Epoch 2/10\n",
      "9/9 [==============================] - 0s 11ms/step - loss: 2.5167 - accuracy: 0.1000 - val_loss: 2.4519 - val_accuracy: 0.1286\n",
      "Epoch 3/10\n",
      "9/9 [==============================] - 0s 10ms/step - loss: 2.4124 - accuracy: 0.1179 - val_loss: 2.5385 - val_accuracy: 0.0714\n",
      "Epoch 4/10\n",
      "9/9 [==============================] - 0s 9ms/step - loss: 2.3502 - accuracy: 0.1357 - val_loss: 2.3407 - val_accuracy: 0.1143\n",
      "Epoch 5/10\n",
      "9/9 [==============================] - 0s 8ms/step - loss: 2.3266 - accuracy: 0.1107 - val_loss: 2.3385 - val_accuracy: 0.1143\n",
      "Epoch 6/10\n",
      "9/9 [==============================] - 0s 7ms/step - loss: 2.3241 - accuracy: 0.1607 - val_loss: 2.3229 - val_accuracy: 0.0857\n",
      "Epoch 7/10\n",
      "9/9 [==============================] - 0s 8ms/step - loss: 2.2669 - accuracy: 0.1357 - val_loss: 2.2869 - val_accuracy: 0.1714\n",
      "Epoch 8/10\n",
      "9/9 [==============================] - 0s 9ms/step - loss: 2.2597 - accuracy: 0.1429 - val_loss: 2.3691 - val_accuracy: 0.1000\n",
      "Epoch 9/10\n",
      "9/9 [==============================] - 0s 9ms/step - loss: 2.2442 - accuracy: 0.1214 - val_loss: 2.3087 - val_accuracy: 0.1571\n",
      "Epoch 10/10\n",
      "9/9 [==============================] - 0s 11ms/step - loss: 2.2057 - accuracy: 0.1857 - val_loss: 2.2942 - val_accuracy: 0.1143\n",
      "3/3 [==============================] - 0s 3ms/step - loss: 2.2942 - accuracy: 0.1143\n"
     ]
    },
    {
     "data": {
      "text/plain": [
       "[2.2941572666168213, 0.11428571492433548]"
      ]
     },
     "execution_count": 12,
     "metadata": {},
     "output_type": "execute_result"
    }
   ],
   "source": [
    "num_classes = 10  # Number of output classes in Persian MNIST dataset\n",
    "\n",
    "# Define the model\n",
    "model = tf.keras.Sequential([\n",
    "    tf.keras.layers.Flatten(input_shape=(img_height, img_width)),\n",
    "    tf.keras.layers.Dense(128, activation='relu'),\n",
    "    tf.keras.layers.Dense(num_classes, activation='softmax')\n",
    "])\n",
    "\n",
    "# Compile the model\n",
    "model.compile(optimizer='adam',\n",
    "              loss=tf.keras.losses.SparseCategoricalCrossentropy(from_logits=True),\n",
    "              metrics=['accuracy'])\n",
    "\n",
    "# Train the model\n",
    "model.fit(train_ds, validation_data=test_ds, epochs=10)\n",
    "\n",
    "# Evaluate the model\n",
    "model.evaluate(test_ds)"
   ]
  },
  {
   "cell_type": "markdown",
   "metadata": {},
   "source": [
    "### Plot Train and Test Accuracy and Loss in ANN"
   ]
  },
  {
   "cell_type": "code",
   "execution_count": 29,
   "metadata": {},
   "outputs": [
    {
     "name": "stdout",
     "output_type": "stream",
     "text": [
      "Epoch 1/10\n"
     ]
    },
    {
     "name": "stderr",
     "output_type": "stream",
     "text": [
      "c:\\Users\\ASUS\\AppData\\Local\\Programs\\Python\\Python39\\lib\\site-packages\\keras\\src\\backend.py:5727: UserWarning: \"`sparse_categorical_crossentropy` received `from_logits=True`, but the `output` argument was produced by a Softmax activation and thus does not represent logits. Was this intended?\n",
      "  output, from_logits = _get_logits(\n"
     ]
    },
    {
     "name": "stdout",
     "output_type": "stream",
     "text": [
      "9/9 [==============================] - 1s 20ms/step - loss: 2.6625 - accuracy: 0.0964 - val_loss: 2.4591 - val_accuracy: 0.1286\n",
      "Epoch 2/10\n",
      "9/9 [==============================] - 0s 9ms/step - loss: 2.4632 - accuracy: 0.1143 - val_loss: 2.3784 - val_accuracy: 0.1143\n",
      "Epoch 3/10\n",
      "9/9 [==============================] - 0s 9ms/step - loss: 2.3522 - accuracy: 0.1071 - val_loss: 2.3994 - val_accuracy: 0.0857\n",
      "Epoch 4/10\n",
      "9/9 [==============================] - 0s 10ms/step - loss: 2.3934 - accuracy: 0.1286 - val_loss: 2.3359 - val_accuracy: 0.1000\n",
      "Epoch 5/10\n",
      "9/9 [==============================] - 0s 10ms/step - loss: 2.3242 - accuracy: 0.1214 - val_loss: 2.2786 - val_accuracy: 0.1286\n",
      "Epoch 6/10\n",
      "9/9 [==============================] - 0s 11ms/step - loss: 2.3117 - accuracy: 0.1357 - val_loss: 2.3332 - val_accuracy: 0.0714\n",
      "Epoch 7/10\n",
      "9/9 [==============================] - 0s 9ms/step - loss: 2.3141 - accuracy: 0.1500 - val_loss: 2.3073 - val_accuracy: 0.1286\n",
      "Epoch 8/10\n",
      "9/9 [==============================] - 0s 8ms/step - loss: 2.2860 - accuracy: 0.1536 - val_loss: 2.2427 - val_accuracy: 0.1571\n",
      "Epoch 9/10\n",
      "9/9 [==============================] - 0s 9ms/step - loss: 2.2584 - accuracy: 0.1571 - val_loss: 2.3042 - val_accuracy: 0.1286\n",
      "Epoch 10/10\n",
      "9/9 [==============================] - 0s 9ms/step - loss: 2.2286 - accuracy: 0.1643 - val_loss: 2.2426 - val_accuracy: 0.1571\n"
     ]
    },
    {
     "data": {
      "image/png": "[encoded data removed]",
      "text/plain": [
       "<Figure size 432x288 with 1 Axes>"
      ]
     },
     "metadata": {
      "needs_background": "light"
     },
     "output_type": "display_data"
    },
    {
     "data": {
      "image/png": "[encoded data removed]",
      "text/plain": [
       "<Figure size 432x288 with 1 Axes>"
      ]
     },
     "metadata": {
      "needs_background": "light"
     },
     "output_type": "display_data"
    },
    {
     "name": "stdout",
     "output_type": "stream",
     "text": [
      "3/3 [==============================] - 0s 4ms/step - loss: 2.2426 - accuracy: 0.1571\n"
     ]
    },
    {
     "data": {
      "text/plain": [
       "[2.242588996887207, 0.15714286267757416]"
      ]
     },
     "execution_count": 29,
     "metadata": {},
     "output_type": "execute_result"
    }
   ],
   "source": [
    "import matplotlib.pyplot as plt\n",
    "\n",
    "# Train the model\n",
    "history = model.fit(train_ds, validation_data=test_ds, epochs=10)\n",
    "\n",
    "# Plot the training and validation accuracy\n",
    "plt.plot(history.history['accuracy'])\n",
    "plt.plot(history.history['val_accuracy'])\n",
    "plt.title('Model Accuracy')\n",
    "plt.xlabel('Epoch')\n",
    "plt.ylabel('Accuracy')\n",
    "plt.legend(['train', 'test'], loc='upper left')\n",
    "plt.show()\n",
    "\n",
    "# Plot the training and validation loss\n",
    "plt.plot(history.history['loss'])\n",
    "plt.plot(history.history['val_loss'])\n",
    "plt.title('Model Loss')\n",
    "plt.xlabel('Epoch')\n",
    "plt.ylabel('Loss')\n",
    "plt.legend(['train', 'test'], loc='upper left')\n",
    "plt.show()\n",
    "\n",
    "# Evaluate the model\n",
    "model.evaluate(test_ds)"
   ]
  },
  {
   "cell_type": "markdown",
   "metadata": {},
   "source": [
    "### Build ANN.2 Model for betther accuracy"
   ]
  },
  {
   "cell_type": "code",
   "execution_count": 5,
   "metadata": {},
   "outputs": [
    {
     "name": "stdout",
     "output_type": "stream",
     "text": [
      "Epoch 1/10\n",
      "9/9 [==============================] - 1s 4ms/step - loss: 2.5689 - accuracy: 0.0893\n",
      "Epoch 2/10\n",
      "9/9 [==============================] - 0s 2ms/step - loss: 2.3381 - accuracy: 0.1071\n",
      "Epoch 3/10\n",
      "9/9 [==============================] - 0s 2ms/step - loss: 2.3408 - accuracy: 0.1143\n",
      "Epoch 4/10\n",
      "9/9 [==============================] - 0s 2ms/step - loss: 2.3018 - accuracy: 0.1429\n",
      "Epoch 5/10\n",
      "9/9 [==============================] - 0s 2ms/step - loss: 2.2904 - accuracy: 0.1393\n",
      "Epoch 6/10\n",
      "9/9 [==============================] - 0s 2ms/step - loss: 2.2931 - accuracy: 0.1179\n",
      "Epoch 7/10\n",
      "9/9 [==============================] - 0s 2ms/step - loss: 2.2738 - accuracy: 0.1179\n",
      "Epoch 8/10\n",
      "9/9 [==============================] - 0s 2ms/step - loss: 2.2738 - accuracy: 0.1179\n",
      "Epoch 9/10\n",
      "9/9 [==============================] - 0s 2ms/step - loss: 2.2685 - accuracy: 0.1286\n",
      "Epoch 10/10\n",
      "9/9 [==============================] - 0s 3ms/step - loss: 2.2575 - accuracy: 0.1286\n",
      "3/3 [==============================] - 0s 4ms/step - loss: 2.2931 - accuracy: 0.1143\n",
      "Accuracy of ANN without data augmentation: 0.11428571492433548\n"
     ]
    }
   ],
   "source": [
    "# Define the ANN architecture\n",
    "#arch 2\n",
    "model_ann = models.Sequential([\n",
    "    layers.Flatten(input_shape=(img_height, img_width, 1)),\n",
    "    layers.Dense(64, activation='relu'), # with little more diffrence\n",
    "    layers.Dense(10, activation='softmax')\n",
    "])\n",
    "\n",
    "# Compile the model\n",
    "model_ann.compile(optimizer='adam',\n",
    "                  loss='sparse_categorical_crossentropy',\n",
    "                  metrics=['accuracy'])\n",
    "\n",
    "# Train the model\n",
    "model_ann.fit(train_ds, epochs=10)\n",
    "\n",
    "# Evaluate the model on the test set\n",
    "_, accuracy_ann = model_ann.evaluate(test_ds)\n",
    "print(\"Accuracy of ANN without data augmentation:\", accuracy_ann)"
   ]
  },
  {
   "cell_type": "markdown",
   "metadata": {},
   "source": [
    "### Build CNN Model"
   ]
  },
  {
   "cell_type": "code",
   "execution_count": 7,
   "metadata": {},
   "outputs": [
    {
     "name": "stdout",
     "output_type": "stream",
     "text": [
      "Epoch 1/10\n"
     ]
    },
    {
     "name": "stderr",
     "output_type": "stream",
     "text": [
      "c:\\Users\\ASUS\\AppData\\Local\\Programs\\Python\\Python39\\lib\\site-packages\\keras\\src\\backend.py:5727: UserWarning: \"`sparse_categorical_crossentropy` received `from_logits=True`, but the `output` argument was produced by a Softmax activation and thus does not represent logits. Was this intended?\n",
      "  output, from_logits = _get_logits(\n"
     ]
    },
    {
     "name": "stdout",
     "output_type": "stream",
     "text": [
      "9/9 [==============================] - 1s 35ms/step - loss: 2.3181 - accuracy: 0.0857 - val_loss: 2.3044 - val_accuracy: 0.1143\n",
      "Epoch 2/10\n",
      "9/9 [==============================] - 0s 18ms/step - loss: 2.2955 - accuracy: 0.0964 - val_loss: 2.3045 - val_accuracy: 0.0857\n",
      "Epoch 3/10\n",
      "9/9 [==============================] - 0s 22ms/step - loss: 2.2877 - accuracy: 0.1214 - val_loss: 2.2988 - val_accuracy: 0.1429\n",
      "Epoch 4/10\n",
      "9/9 [==============================] - 0s 18ms/step - loss: 2.2541 - accuracy: 0.2214 - val_loss: 2.2723 - val_accuracy: 0.1429\n",
      "Epoch 5/10\n",
      "9/9 [==============================] - 0s 21ms/step - loss: 2.2051 - accuracy: 0.1893 - val_loss: 2.2093 - val_accuracy: 0.2000\n",
      "Epoch 6/10\n",
      "9/9 [==============================] - 0s 16ms/step - loss: 2.1162 - accuracy: 0.3143 - val_loss: 2.1156 - val_accuracy: 0.2143\n",
      "Epoch 7/10\n",
      "9/9 [==============================] - 0s 16ms/step - loss: 1.9654 - accuracy: 0.3357 - val_loss: 1.9502 - val_accuracy: 0.3429\n",
      "Epoch 8/10\n",
      "9/9 [==============================] - 0s 19ms/step - loss: 1.8013 - accuracy: 0.3964 - val_loss: 1.7743 - val_accuracy: 0.4143\n",
      "Epoch 9/10\n",
      "9/9 [==============================] - 0s 16ms/step - loss: 1.6442 - accuracy: 0.4393 - val_loss: 1.7789 - val_accuracy: 0.4143\n",
      "Epoch 10/10\n",
      "9/9 [==============================] - 0s 14ms/step - loss: 1.6012 - accuracy: 0.4679 - val_loss: 1.6398 - val_accuracy: 0.5000\n",
      "3/3 [==============================] - 0s 4ms/step - loss: 1.6398 - accuracy: 0.5000\n"
     ]
    },
    {
     "data": {
      "text/plain": [
       "[1.6398062705993652, 0.5]"
      ]
     },
     "execution_count": 7,
     "metadata": {},
     "output_type": "execute_result"
    }
   ],
   "source": [
    "import tensorflow as tf\n",
    "\n",
    "num_classes = 10  # Number of output classes in Persian MNIST dataset\n",
    "\n",
    "# Define the model\n",
    "model = tf.keras.Sequential([\n",
    "    tf.keras.layers.Conv2D(32, kernel_size=(3, 3), activation='relu', input_shape=(img_height, img_width, 1)),\n",
    "    tf.keras.layers.MaxPooling2D(pool_size=(2, 2)),\n",
    "    tf.keras.layers.Conv2D(64, (3, 3), activation='relu'),\n",
    "    tf.keras.layers.MaxPooling2D(pool_size=(2, 2)),\n",
    "    tf.keras.layers.Conv2D(64, (3, 3), activation='relu'),\n",
    "    tf.keras.layers.Flatten(),\n",
    "    tf.keras.layers.Dense(64, activation='relu'),\n",
    "    tf.keras.layers.Dense(num_classes, activation='softmax')\n",
    "    \n",
    "])\n",
    "\n",
    "# Compile the model\n",
    "model.compile(optimizer='adam',\n",
    "              loss=tf.keras.losses.SparseCategoricalCrossentropy(from_logits=True),\n",
    "              metrics=['accuracy'])\n",
    "\n",
    "# Train the model\n",
    "model.fit(train_ds, validation_data=test_ds, epochs=10)\n",
    "\n",
    "# Evaluate the model\n",
    "model.evaluate(test_ds)"
   ]
  },
  {
   "cell_type": "markdown",
   "metadata": {},
   "source": [
    "### Plot the CNN Model Error"
   ]
  },
  {
   "cell_type": "code",
   "execution_count": 28,
   "metadata": {},
   "outputs": [
    {
     "name": "stdout",
     "output_type": "stream",
     "text": [
      "Epoch 1/10\n",
      "9/9 [==============================] - 1s 31ms/step - loss: 2.3198 - accuracy: 0.0714 - val_loss: 2.3012 - val_accuracy: 0.1000\n",
      "Epoch 2/10\n",
      "9/9 [==============================] - 0s 16ms/step - loss: 2.2948 - accuracy: 0.1357 - val_loss: 2.2922 - val_accuracy: 0.1714\n",
      "Epoch 3/10\n",
      "9/9 [==============================] - 0s 16ms/step - loss: 2.2804 - accuracy: 0.1571 - val_loss: 2.2849 - val_accuracy: 0.1857\n",
      "Epoch 4/10\n",
      "9/9 [==============================] - 0s 25ms/step - loss: 2.2507 - accuracy: 0.2143 - val_loss: 2.2432 - val_accuracy: 0.2429\n",
      "Epoch 5/10\n",
      "9/9 [==============================] - 0s 24ms/step - loss: 2.1848 - accuracy: 0.2321 - val_loss: 2.1735 - val_accuracy: 0.2143\n",
      "Epoch 6/10\n",
      "9/9 [==============================] - 0s 15ms/step - loss: 2.0833 - accuracy: 0.2321 - val_loss: 2.0676 - val_accuracy: 0.1857\n",
      "Epoch 7/10\n",
      "9/9 [==============================] - 0s 16ms/step - loss: 1.9595 - accuracy: 0.3107 - val_loss: 1.8967 - val_accuracy: 0.3571\n",
      "Epoch 8/10\n",
      "9/9 [==============================] - 0s 16ms/step - loss: 1.8022 - accuracy: 0.3786 - val_loss: 1.8067 - val_accuracy: 0.3429\n",
      "Epoch 9/10\n",
      "9/9 [==============================] - 0s 15ms/step - loss: 1.6881 - accuracy: 0.4429 - val_loss: 1.6350 - val_accuracy: 0.4714\n",
      "Epoch 10/10\n",
      "9/9 [==============================] - 0s 18ms/step - loss: 1.5729 - accuracy: 0.4429 - val_loss: 1.6074 - val_accuracy: 0.4857\n"
     ]
    },
    {
     "data": {
      "image/png": "[encoded data removed]",
      "text/plain": [
       "<Figure size 432x288 with 1 Axes>"
      ]
     },
     "metadata": {
      "needs_background": "light"
     },
     "output_type": "display_data"
    }
   ],
   "source": [
    "import tensorflow as tf\n",
    "import matplotlib.pyplot as plt\n",
    "\n",
    "# Train the model\n",
    "history = model.fit(train_ds, validation_data=test_ds, epochs=10)\n",
    "\n",
    "# Plot the training and validation error (loss)\n",
    "plt.plot(history.history['loss'])\n",
    "plt.plot(history.history['val_loss'])\n",
    "plt.title('Model Error (Loss)')\n",
    "plt.xlabel('Epoch')\n",
    "plt.ylabel('Error (Loss)')\n",
    "plt.legend(['Train', 'Validation'], loc='upper right')\n",
    "plt.show()"
   ]
  },
  {
   "cell_type": "code",
   "execution_count": 9,
   "metadata": {},
   "outputs": [
    {
     "name": "stdout",
     "output_type": "stream",
     "text": [
      "Epoch 1/10\n",
      "9/9 [==============================] - 1s 7ms/step - loss: 2.3918 - accuracy: 0.0964\n",
      "Epoch 2/10\n",
      "9/9 [==============================] - 0s 8ms/step - loss: 2.3036 - accuracy: 0.1036\n",
      "Epoch 3/10\n",
      "9/9 [==============================] - 0s 7ms/step - loss: 2.2978 - accuracy: 0.1071\n",
      "Epoch 4/10\n",
      "9/9 [==============================] - 0s 7ms/step - loss: 2.2897 - accuracy: 0.1607\n",
      "Epoch 5/10\n",
      "9/9 [==============================] - 0s 7ms/step - loss: 2.2864 - accuracy: 0.1036\n",
      "Epoch 6/10\n",
      "9/9 [==============================] - 0s 7ms/step - loss: 2.2752 - accuracy: 0.1714\n",
      "Epoch 7/10\n",
      "9/9 [==============================] - 0s 8ms/step - loss: 2.2644 - accuracy: 0.1571\n",
      "Epoch 8/10\n",
      "9/9 [==============================] - 0s 8ms/step - loss: 2.2489 - accuracy: 0.2107\n",
      "Epoch 9/10\n",
      "9/9 [==============================] - 0s 7ms/step - loss: 2.2382 - accuracy: 0.1821\n",
      "Epoch 10/10\n",
      "9/9 [==============================] - 0s 6ms/step - loss: 2.2112 - accuracy: 0.3071\n",
      "3/3 [==============================] - 0s 4ms/step - loss: 2.2524 - accuracy: 0.2429\n",
      "Accuracy of CNN without data augmentation: 0.24285714328289032\n"
     ]
    }
   ],
   "source": [
    "# Define the CNN architecture\n",
    "#not goof arch!\n",
    "model_cnn = models.Sequential([\n",
    "    layers.Conv2D(32, (3, 3), activation='relu', input_shape=(img_height, img_width, 1)),\n",
    "    layers.MaxPooling2D((2, 2)),\n",
    "    layers.Flatten(),\n",
    "    layers.Dense(64, activation='relu'),\n",
    "    layers.Dense(10, activation='softmax')\n",
    "])\n",
    "\n",
    "# Compile the model\n",
    "model_cnn.compile(optimizer='adam',\n",
    "                  loss='sparse_categorical_crossentropy',\n",
    "                  metrics=['accuracy'])\n",
    "\n",
    "# Train the model\n",
    "model_cnn.fit(train_ds, epochs=10)\n",
    "\n",
    "\n",
    "# Evaluate the model on the test set\n",
    "_, accuracy_cnn = model_cnn.evaluate(test_ds)\n",
    "print(\"Accuracy of CNN without data augmentation:\", accuracy_cnn)"
   ]
  }
 ],
 "metadata": {
  "kernelspec": {
   "display_name": "Python 3",
   "language": "python",
   "name": "python3"
  },
  "language_info": {
   "codemirror_mode": {
    "name": "ipython",
    "version": 3
   },
   "file_extension": ".py",
   "mimetype": "text/x-python",
   "name": "python",
   "nbconvert_exporter": "python",
   "pygments_lexer": "ipython3",
   "version": "3.9.6"
  }
 },
 "nbformat": 4,
 "nbformat_minor": 2
}
