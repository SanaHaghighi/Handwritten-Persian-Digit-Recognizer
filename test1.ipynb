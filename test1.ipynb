{
 "cells": [
  {
   "cell_type": "code",
   "execution_count": 7,
   "metadata": {},
   "outputs": [
    {
     "name": "stdout",
     "output_type": "stream",
     "text": [
      "Found 350 files belonging to 10 classes.\n",
      "Using 315 files for training.\n",
      "Found 350 files belonging to 10 classes.\n",
      "Using 35 files for validation.\n"
     ]
    }
   ],
   "source": [
    "# Imports needed\n",
    "import os\n",
    "os.environ[\"TF_CPP_MIN_LOG_LEVEL\"] = \"2\"\n",
    "import tensorflow as tf\n",
    "from tensorflow.keras.preprocessing.image import ImageDataGenerator\n",
    "\n",
    "img_height = 28\n",
    "img_width = 28\n",
    "batch_size = 2\n",
    "\n",
    "# Loading the dataset\n",
    "ds_train = tf.keras.preprocessing.image_dataset_from_directory(\"./mnist_dataset/\",\n",
    "    labels=\"inferred\",\n",
    "    label_mode=\"int\",\n",
    "    color_mode=\"grayscale\",\n",
    "    batch_size=batch_size,\n",
    "    image_size=(img_height, img_width),\n",
    "    shuffle=True,\n",
    "    seed=123,\n",
    "    validation_split=0.1,\n",
    "    subset=\"training\"\n",
    ")\n",
    "\n",
    "ds_validation = tf.keras.preprocessing.image_dataset_from_directory(\n",
    "    \"./mnist_dataset/\",\n",
    "    labels=\"inferred\",\n",
    "    label_mode=\"int\",\n",
    "    color_mode=\"grayscale\",\n",
    "    batch_size=batch_size,\n",
    "    image_size=(img_height, img_width),\n",
    "    shuffle=True,\n",
    "    seed=123,\n",
    "    validation_split=0.1,\n",
    "    subset=\"validation\"\n",
    ")\n"
   ]
  },
  {
   "cell_type": "code",
   "execution_count": 2,
   "metadata": {},
   "outputs": [
    {
     "name": "stdout",
     "output_type": "stream",
     "text": [
      "WARNING:tensorflow:From c:\\Users\\ASUS\\AppData\\Local\\Programs\\Python\\Python39\\lib\\site-packages\\keras\\src\\backend.py:1398: The name tf.executing_eagerly_outside_functions is deprecated. Please use tf.compat.v1.executing_eagerly_outside_functions instead.\n",
      "\n",
      "Epoch 1/10\n",
      "WARNING:tensorflow:From c:\\Users\\ASUS\\AppData\\Local\\Programs\\Python\\Python39\\lib\\site-packages\\keras\\src\\utils\\tf_utils.py:492: The name tf.ragged.RaggedTensorValue is deprecated. Please use tf.compat.v1.ragged.RaggedTensorValue instead.\n",
      "\n",
      "WARNING:tensorflow:From c:\\Users\\ASUS\\AppData\\Local\\Programs\\Python\\Python39\\lib\\site-packages\\keras\\src\\engine\\base_layer_utils.py:384: The name tf.executing_eagerly_outside_functions is deprecated. Please use tf.compat.v1.executing_eagerly_outside_functions instead.\n",
      "\n",
      "158/158 - 3s - loss: 122.1692 - accuracy: 0.0984 - 3s/epoch - 18ms/step\n",
      "Epoch 2/10\n",
      "158/158 - 1s - loss: 2.3035 - accuracy: 0.0889 - 580ms/epoch - 4ms/step\n",
      "Epoch 3/10\n",
      "158/158 - 1s - loss: 2.3031 - accuracy: 0.0762 - 609ms/epoch - 4ms/step\n",
      "Epoch 4/10\n",
      "158/158 - 1s - loss: 2.3030 - accuracy: 0.1016 - 687ms/epoch - 4ms/step\n",
      "Epoch 5/10\n",
      "158/158 - 1s - loss: 2.3028 - accuracy: 0.0794 - 556ms/epoch - 4ms/step\n",
      "Epoch 6/10\n",
      "158/158 - 1s - loss: 2.3027 - accuracy: 0.0825 - 745ms/epoch - 5ms/step\n",
      "Epoch 7/10\n",
      "158/158 - 1s - loss: 2.3026 - accuracy: 0.0952 - 1s/epoch - 8ms/step\n",
      "Epoch 8/10\n",
      "158/158 - 1s - loss: 2.3023 - accuracy: 0.0952 - 1s/epoch - 8ms/step\n",
      "Epoch 9/10\n",
      "158/158 - 1s - loss: 2.3021 - accuracy: 0.1079 - 1s/epoch - 8ms/step\n",
      "Epoch 10/10\n",
      "158/158 - 1s - loss: 2.3021 - accuracy: 0.1111 - 1s/epoch - 8ms/step\n"
     ]
    },
    {
     "data": {
      "text/plain": [
       "<keras.src.callbacks.History at 0x14e13f0cfa0>"
      ]
     },
     "execution_count": 2,
     "metadata": {},
     "output_type": "execute_result"
    }
   ],
   "source": [
    "#ANN\n",
    "from tensorflow import keras\n",
    "from tensorflow.keras import layers\n",
    "\n",
    "model_ann = keras.Sequential(\n",
    "    [\n",
    "        layers.Input((28, 28, 1)),\n",
    "        layers.Flatten(),\n",
    "        layers.Dense(64, activation=\"relu\"),\n",
    "        layers.Dense(10),\n",
    "    ]\n",
    ")\n",
    "\n",
    "model_ann.compile(\n",
    "    optimizer=keras.optimizers.Adam(),\n",
    "    loss=[keras.losses.SparseCategoricalCrossentropy(from_logits=True)],\n",
    "    metrics=[\"accuracy\"],\n",
    ")\n",
    "\n",
    "model_ann.fit(ds_train, epochs=10, verbose=2)"
   ]
  },
  {
   "cell_type": "code",
   "execution_count": 3,
   "metadata": {},
   "outputs": [
    {
     "name": "stdout",
     "output_type": "stream",
     "text": [
      "WARNING:tensorflow:From c:\\Users\\ASUS\\AppData\\Local\\Programs\\Python\\Python39\\lib\\site-packages\\keras\\src\\layers\\pooling\\max_pooling2d.py:161: The name tf.nn.max_pool is deprecated. Please use tf.nn.max_pool2d instead.\n",
      "\n",
      "Epoch 1/10\n",
      "158/158 - 5s - loss: 56.2597 - accuracy: 0.2190 - 5s/epoch - 29ms/step\n",
      "Epoch 2/10\n",
      "158/158 - 1s - loss: 11.9815 - accuracy: 0.4635 - 1s/epoch - 9ms/step\n",
      "Epoch 3/10\n",
      "158/158 - 1s - loss: 8.4802 - accuracy: 0.5810 - 1s/epoch - 7ms/step\n",
      "Epoch 4/10\n",
      "158/158 - 1s - loss: 6.7797 - accuracy: 0.6857 - 1s/epoch - 7ms/step\n",
      "Epoch 5/10\n",
      "158/158 - 1s - loss: 5.8089 - accuracy: 0.7302 - 1s/epoch - 7ms/step\n",
      "Epoch 6/10\n",
      "158/158 - 1s - loss: 2.5516 - accuracy: 0.8317 - 1s/epoch - 7ms/step\n",
      "Epoch 7/10\n",
      "158/158 - 1s - loss: 1.6457 - accuracy: 0.8762 - 1s/epoch - 7ms/step\n",
      "Epoch 8/10\n",
      "158/158 - 1s - loss: 1.8464 - accuracy: 0.8889 - 1s/epoch - 7ms/step\n",
      "Epoch 9/10\n",
      "158/158 - 1s - loss: 2.1872 - accuracy: 0.8635 - 1s/epoch - 7ms/step\n",
      "Epoch 10/10\n",
      "158/158 - 1s - loss: 2.5808 - accuracy: 0.8698 - 1s/epoch - 7ms/step\n"
     ]
    },
    {
     "data": {
      "text/plain": [
       "<keras.src.callbacks.History at 0x14e152d9190>"
      ]
     },
     "execution_count": 3,
     "metadata": {},
     "output_type": "execute_result"
    }
   ],
   "source": [
    "#CNN\n",
    "from tensorflow import keras\n",
    "from tensorflow.keras import layers\n",
    "\n",
    "model_cnn = keras.Sequential(\n",
    "    [\n",
    "        layers.Input((28, 28, 1)),\n",
    "        layers.Conv2D(16, 3, padding=\"same\"),\n",
    "        layers.Conv2D(32, 3, padding=\"same\"),\n",
    "        layers.MaxPooling2D(),\n",
    "        layers.Flatten(),\n",
    "        layers.Dense(10),\n",
    "    ]\n",
    ")\n",
    "\n",
    "model_cnn.compile(\n",
    "    optimizer=keras.optimizers.Adam(),\n",
    "    loss=[keras.losses.SparseCategoricalCrossentropy(from_logits=True)],\n",
    "    metrics=[\"accuracy\"],\n",
    ")\n",
    "\n",
    "model_cnn.fit(ds_train, epochs=10, verbose=2)"
   ]
  },
  {
   "cell_type": "code",
   "execution_count": 6,
   "metadata": {},
   "outputs": [],
   "source": [
    "#augmentation\n",
    "## Applying data augmentation\n",
    "data_augmentation = tf.keras.Sequential([\n",
    "  tf.keras.layers.experimental.preprocessing.Rescaling(1./255),\n",
    "  tf.keras.layers.experimental.preprocessing.RandomContrast(0.1),\n",
    "  tf.keras.layers.experimental.preprocessing.RandomZoom(0.1),\n",
    "])\n",
    "\n",
    "ds_train = ds_train.map(lambda x, y: (data_augmentation(x, training=True), y))\n"
   ]
  }
 ],
 "metadata": {
  "kernelspec": {
   "display_name": "Python 3",
   "language": "python",
   "name": "python3"
  },
  "language_info": {
   "codemirror_mode": {
    "name": "ipython",
    "version": 3
   },
   "file_extension": ".py",
   "mimetype": "text/x-python",
   "name": "python",
   "nbconvert_exporter": "python",
   "pygments_lexer": "ipython3",
   "version": "3.9.6"
  }
 },
 "nbformat": 4,
 "nbformat_minor": 2
}
